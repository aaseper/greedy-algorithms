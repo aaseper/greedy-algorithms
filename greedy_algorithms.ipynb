{
 "cells": [
  {
   "metadata": {
    "id": "ede3e0ac79234889"
   },
   "cell_type": "markdown",
   "source": [
    "# Heuristic Core Greedy Algorithms\n",
    "\n",
    "## Application of core greedy algorithms for general heuristic problem-solving using Python\n",
    "\n",
    "    Original publish date: May, 2023\n",
    "    Version: v1\n",
    "    License: MIT\n",
    "    Author: Alejandro Asensio Pérez\n",
    "    Tags: Heuristic, Greedy Algorithms, Python\n",
    "\n",
    "### Summary\n",
    "\n",
    "The notebook explores the fundamental concepts of greedy algorithms and their application in heuristic problem-solving. It provides a collection of interactive Python notebooks.\n",
    "\n",
    "### Connect and Engage\n",
    "\n",
    "Please, feel free to comment on typos, propose improvements or expand the content."
   ],
   "id": "ede3e0ac79234889"
  },
  {
   "metadata": {
    "id": "41065afc8a0aa4f8",
    "ExecuteTime": {
     "end_time": "2024-07-20T16:24:44.444876Z",
     "start_time": "2024-07-20T16:24:44.442966Z"
    }
   },
   "cell_type": "code",
   "source": [
    "# Import standard libraries\n",
    "from math import inf"
   ],
   "id": "41065afc8a0aa4f8",
   "outputs": [],
   "execution_count": 1
  },
  {
   "metadata": {
    "id": "bead1fb4203ec39e"
   },
   "cell_type": "markdown",
   "source": [
    "## Dijkstra's Algorithm\n",
    "\n",
    "Shortest Path problem-solving for undirected graphs"
   ],
   "id": "bead1fb4203ec39e"
  },
  {
   "metadata": {
    "id": "fbc121e30a2defb3",
    "ExecuteTime": {
     "end_time": "2024-07-20T16:24:44.466567Z",
     "start_time": "2024-07-20T16:24:44.462558Z"
    }
   },
   "cell_type": "code",
   "source": [
    "# Function to prepare adjacency list\n",
    "def prepare_adjacency_list(n, e):\n",
    "  graph = [[] for _ in range(n + 1)]\n",
    "  for u, v, w in e:\n",
    "    graph[u].append((v, w))\n",
    "  return graph\n",
    "\n",
    "\n",
    "def dijkstra_sparse(graph, src):\n",
    "  \"\"\"\n",
    "  Implements Dijkstra's algorithm to find the shortest paths from a starting node to all other nodes.\n",
    "\n",
    "  This implementation uses an adjacency list representation of the graph.\n",
    "\n",
    "  It is more efficient for sparse graphs where the number of edges is much less than the square of the number of nodes.\n",
    "\n",
    "  The algorithm iterates over the neighbors of each node to update distances.\n",
    "\n",
    "  Args:\n",
    "    graph: An adjacency list representation of the graph, where each element is a list of tuples (neighbor, weight).\n",
    "    src: The index of the starting node.\n",
    "\n",
    "  Returns:\n",
    "    A tuple containing two lists:\n",
    "        - distances: A list of shortest distances from the starting node to all other nodes.\n",
    "        - parent: A list of parent node indices for the shortest paths.\n",
    "  \"\"\"\n",
    "\n",
    "  def find_min_unvisited_node(distances, visited):\n",
    "    \"\"\"\n",
    "    Finds the unvisited node with the minimum distance in the graph.\n",
    "\n",
    "    Args:\n",
    "        distances: A list of distances for each node in the graph.\n",
    "        visited: A list of booleans indicating whether a node has been visited.\n",
    "\n",
    "    Returns:\n",
    "        The index of the unvisited node with the minimum distance, or None if all nodes are visited.\n",
    "    \"\"\"\n",
    "\n",
    "    min_dist = inf\n",
    "    min_index = 0\n",
    "\n",
    "    for i in range(1, len(distances)):\n",
    "      if not visited[i] and distances[i] < min_dist:\n",
    "        min_dist = distances[i]\n",
    "        min_index = i\n",
    "\n",
    "    return min_index\n",
    "\n",
    "  n = len(graph)  # Num nodes\n",
    "\n",
    "  dist = [inf] * n\n",
    "  dist[src] = 0  # Set starting node distance to 0\n",
    "\n",
    "  path = [-1] * n  # Initialize the shortest path list\n",
    "\n",
    "  visited = [False] * n\n",
    "  visited[src] = True  # Mark starting node as visited\n",
    "\n",
    "  # Initialize distances for neighbors of the starting node\n",
    "  for dest, weight in graph[src]:\n",
    "    dist[dest] = weight\n",
    "    path[dest] = src\n",
    "\n",
    "  # Main loop for Dijkstra's algorithm\n",
    "  for _ in range(2, n):\n",
    "    # Find the unvisited node with the minimum distance\n",
    "    neighbor = find_min_unvisited_node(dist, visited)\n",
    "\n",
    "    visited[neighbor] = True\n",
    "\n",
    "    # Relax edges from the current node\n",
    "    for dest, weight in graph[neighbor]:\n",
    "      new_dist = dist[neighbor] + weight\n",
    "      if dist[dest] > new_dist:\n",
    "        dist[dest] = new_dist\n",
    "        path[dest] = neighbor\n",
    "\n",
    "    return dist, path"
   ],
   "id": "fbc121e30a2defb3",
   "outputs": [],
   "execution_count": 2
  },
  {
   "metadata": {
    "id": "565f3325a6f93a03",
    "ExecuteTime": {
     "end_time": "2024-07-20T16:24:44.477597Z",
     "start_time": "2024-07-20T16:24:44.467406Z"
    }
   },
   "cell_type": "code",
   "source": [
    "# Function to prepare adjacency matrix\n",
    "def prepare_adjacency_matrix(n, e):\n",
    "  graph = [[inf] * (n + 1) for _ in range(n + 1)]\n",
    "  for i in range(n + 1):\n",
    "    graph[i][i] = 0\n",
    "  for u, v, w in e:\n",
    "    graph[u][v] = w\n",
    "    graph[v][u] = w\n",
    "  return graph\n",
    "\n",
    "\n",
    "def dijkstra_dense(graph, src):\n",
    "  \"\"\"\n",
    "  Implements Dijkstra's algorithm to find the shortest paths from a starting node to all other nodes.\n",
    "\n",
    "  This implementation uses an adjacency matrix representation of the graph.\n",
    "\n",
    "  It is more suitable for dense graphs where the number of edges is close to the square of the number of nodes.\n",
    "\n",
    "  The algorithm maintains a list of candidate nodes and updates distances by selecting the closest candidate.\n",
    "\n",
    "  Args:\n",
    "      graph: An adjacency matrix representation of the graph.\n",
    "      src: The index of the starting node.\n",
    "\n",
    "  Returns:\n",
    "      A tuple containing two lists:\n",
    "          - distances: A list of shortest distances from the starting node to all other nodes.\n",
    "          - parent: A list of parent node indices for the shortest paths.\n",
    "  \"\"\"\n",
    "\n",
    "  def select_closest_candidate(candidates):\n",
    "    \"\"\"\n",
    "    Selects the candidate with the minimum distance from the list.\n",
    "\n",
    "    Args:\n",
    "        candidates: A list of tuples containing (neighbor_index, distance) for candidate nodes.\n",
    "\n",
    "    Returns:\n",
    "        A tuple containing (neighbor_index, distance) for the closest candidate.\n",
    "    \"\"\"\n",
    "\n",
    "    # Find the index of the candidate with the minimum distance\n",
    "    min_index = 0\n",
    "    for i in range(1, len(candidates)):\n",
    "      if candidates[i][1] < candidates[min_index][1]:\n",
    "        min_index = i\n",
    "\n",
    "    # Return a copy of the closest candidate\n",
    "    closest_candidate = candidates[min_index].copy()\n",
    "    del candidates[min_index]\n",
    "\n",
    "    return closest_candidate\n",
    "\n",
    "  def update_dist_and_path(distances, candidate, graph, candidates, path):\n",
    "    \"\"\"\n",
    "    Updates distances and parent nodes in the graph based on the selected closest candidate.\n",
    "\n",
    "    Args:\n",
    "        distances: A list of distances for each node in the graph.\n",
    "        candidate: A tuple containing (neighbor_index, distance) for the closest candidate.\n",
    "        graph: An adjacency list representation of the graph, where each element is a list of tuples (neighbor, weight).\n",
    "        candidates: A list of tuples containing (neighbor_index, distance) for remaining candidate nodes.\n",
    "        path: A list of parent node indices for the shortest paths (initially all -1).\n",
    "\n",
    "    Returns:\n",
    "        A tuple containing the updated distances and parent lists.\n",
    "    \"\"\"\n",
    "\n",
    "    # Update distance of the selected candidate\n",
    "    distances[candidate[0]] = candidate[1]\n",
    "\n",
    "    # Relax edges for remaining candidates\n",
    "    for neighbor, current_dist in candidates:\n",
    "      new_dist = candidate[1] + graph[candidate[0]][neighbor - 1]  # Assuming 0-based indexing\n",
    "      if new_dist < current_dist:\n",
    "        candidates[candidates.index((neighbor, current_dist))] = (neighbor, new_dist)  # Update candidate distance\n",
    "        path[neighbor] = candidate[0]  # Update path of the neighbor\n",
    "\n",
    "    return distances, path\n",
    "\n",
    "  path = [-1] * len(graph)\n",
    "  dist = graph[src][:]\n",
    "\n",
    "  # Initializes a list of candidate nodes and their distances from the starting node\n",
    "  candidates = [[i, graph[src][i]]\n",
    "                for i in range(1, len(graph))\n",
    "                if i != src]\n",
    "\n",
    "  # Initializes the path to the starting node for all neighbors of the starting node\n",
    "  for i in range(2, len(graph[1])):\n",
    "    if graph[1][i] != inf:\n",
    "      path[i] = 1\n",
    "\n",
    "  # Main loop for Dijkstra's algorithm\n",
    "  while candidates:\n",
    "    candidate = select_closest_candidate(candidates)\n",
    "    dist, path = update_dist_and_path(dist, candidate, graph, candidates, path)\n",
    "    return dist, path"
   ],
   "id": "565f3325a6f93a03",
   "outputs": [],
   "execution_count": 3
  },
  {
   "metadata": {
    "id": "9f775e78a09db337"
   },
   "cell_type": "markdown",
   "source": [
    "### Test case and Asserts"
   ],
   "id": "9f775e78a09db337"
  },
  {
   "metadata": {
    "id": "22d3f84a6b4a041b",
    "ExecuteTime": {
     "end_time": "2024-07-20T16:24:44.486568Z",
     "start_time": "2024-07-20T16:24:44.478408Z"
    }
   },
   "cell_type": "code",
   "source": [
    "source = 1  # Starting node\n",
    "\n",
    "n_nodes = 3  # Num nodes\n",
    "\n",
    "edges = [\n",
    "  (3, 1, 1),\n",
    "  (3, 2, 2),\n",
    "  (1, 3, 1),\n",
    "  (2, 3, 1),\n",
    "  (2, 1, 2),\n",
    "  (1, 2, 2)\n",
    "]\n",
    "\n",
    "graph_adj_list = prepare_adjacency_list(n_nodes, edges)\n",
    "\n",
    "graph_adj_matrix = prepare_adjacency_matrix(n_nodes, edges)"
   ],
   "id": "22d3f84a6b4a041b",
   "outputs": [],
   "execution_count": 4
  },
  {
   "metadata": {
    "id": "454522e182dbe910",
    "outputId": "d031f4fe-9b92-40cc-ed19-c47dc51a9635",
    "ExecuteTime": {
     "end_time": "2024-07-20T16:24:44.494741Z",
     "start_time": "2024-07-20T16:24:44.487239Z"
    }
   },
   "cell_type": "code",
   "source": [
    "# Expected results\n",
    "expected_distances = [inf, 0, 2, 1]\n",
    "expected_paths = [-1, -1, 1, 1]\n",
    "\n",
    "# Run Dijkstra's algorithm for sparse graph\n",
    "distances, paths = dijkstra_sparse(graph_adj_list, source)\n",
    "assert distances == expected_distances, \"Problem with Dijkstra's algorithm (sparse)\"\n",
    "assert paths == expected_paths, \"Problem with Dijkstra's algorithm (sparse)\"\n",
    "\n",
    "# Run Dijkstra's algorithm for dense graph\n",
    "distances, paths = dijkstra_dense(graph_adj_matrix, source)\n",
    "assert distances == expected_distances, \"Problem with Dijkstra's algorithm (dense)\"\n",
    "assert paths == expected_paths, \"Problem with Dijkstra's algorithm (dense)\"\n",
    "\n",
    "print(\"All tests passed.\")"
   ],
   "id": "454522e182dbe910",
   "outputs": [
    {
     "name": "stdout",
     "output_type": "stream",
     "text": [
      "All tests passed.\n"
     ]
    }
   ],
   "execution_count": 5
  },
  {
   "metadata": {
    "id": "8e76c341061f0ba2",
    "outputId": "078281c4-ef4b-4883-89a5-68dc0d15e97a",
    "ExecuteTime": {
     "end_time": "2024-07-20T16:24:49.556791Z",
     "start_time": "2024-07-20T16:24:44.495527Z"
    }
   },
   "cell_type": "code",
   "source": [
    "%%timeit\n",
    "dijkstra_sparse(graph_adj_list, source)"
   ],
   "id": "8e76c341061f0ba2",
   "outputs": [
    {
     "name": "stdout",
     "output_type": "stream",
     "text": [
      "620 ns ± 4.45 ns per loop (mean ± std. dev. of 7 runs, 1,000,000 loops each)\n"
     ]
    }
   ],
   "execution_count": 6
  },
  {
   "metadata": {
    "id": "8dc49a9102d1c5b6",
    "outputId": "5893904a-65eb-4f56-cb98-413e8a684151",
    "ExecuteTime": {
     "end_time": "2024-07-20T16:24:56.374453Z",
     "start_time": "2024-07-20T16:24:49.557416Z"
    }
   },
   "cell_type": "code",
   "source": [
    "%%timeit\n",
    "dijkstra_dense(graph_adj_matrix, source)"
   ],
   "id": "8dc49a9102d1c5b6",
   "outputs": [
    {
     "name": "stdout",
     "output_type": "stream",
     "text": [
      "839 ns ± 5.21 ns per loop (mean ± std. dev. of 7 runs, 1,000,000 loops each)\n"
     ]
    }
   ],
   "execution_count": 7
  },
  {
   "metadata": {
    "id": "c431a603bfc0c78b"
   },
   "cell_type": "markdown",
   "source": [
    "## Kruskal's Algorithm\n",
    "\n",
    "Minimum Spanning Tree problem-solving for undirected graphs"
   ],
   "id": "c431a603bfc0c78b"
  },
  {
   "metadata": {
    "id": "a9f348e8f12782e2",
    "ExecuteTime": {
     "end_time": "2024-07-20T16:24:56.378640Z",
     "start_time": "2024-07-20T16:24:56.375363Z"
    }
   },
   "cell_type": "code",
   "source": [
    "# Function to prepare graph\n",
    "def prepare_graph(e):\n",
    "  edges_list = []\n",
    "  for u, v, e in e:\n",
    "    edges_list.append((u, v, e))\n",
    "  return sorted(edges_list, key=lambda edge: edge[2])\n",
    "\n",
    "\n",
    "def kruskal(graph, n):\n",
    "  \"\"\"\n",
    "  Implements Kruskal's algorithm to find the minimum spanning tree (MST) of an undirected graph.\n",
    "\n",
    "  Args:\n",
    "    graph: An adjacency list representation of the graph, where each element is a list of tuples (neighbor, weight).\n",
    "    n: The total number of nodes in the graph.\n",
    "\n",
    "  Returns:\n",
    "    A list of edges representing the MST.\n",
    "  \"\"\"\n",
    "\n",
    "  def update_connected_components(components, edge):\n",
    "    \"\"\"\n",
    "    Updates connected component labels for nodes merged based on an edge.\n",
    "\n",
    "    Args:\n",
    "        components: A list representing connected component labels for each node.\n",
    "        edge: A tuple containing the indices of two nodes connected by an edge.\n",
    "\n",
    "    Returns:\n",
    "        The updated list of connected component labels.\n",
    "    \"\"\"\n",
    "\n",
    "    # Get the labels of the source and target nodes\n",
    "    source_label = components[edge[0]]\n",
    "    target_label = components[edge[1]]\n",
    "\n",
    "    # Update all nodes with the source label to the target label\n",
    "    for i in range(len(components)):\n",
    "      if components[i] == source_label:\n",
    "        components[i] = target_label\n",
    "\n",
    "    return components\n",
    "\n",
    "  # Initialize empty solution and connected component labels\n",
    "  solution = []\n",
    "  connected_components = list(range(n + 1))\n",
    "\n",
    "  # Iterate until we have n-1 edges and there are still edges in the graph\n",
    "  while len(solution) != n - 1 and graph:\n",
    "    # Select the next edge with the smallest weight\n",
    "    current_edge = graph.pop(0)\n",
    "\n",
    "    # Check if the edge connects nodes from different connected components\n",
    "    if connected_components[current_edge[0]] != connected_components[current_edge[1]]:\n",
    "      # Add the edge to the solution and update connected components\n",
    "      solution.append(current_edge)\n",
    "      connected_components = update_connected_components(connected_components, current_edge)\n",
    "\n",
    "  return solution"
   ],
   "id": "a9f348e8f12782e2",
   "outputs": [],
   "execution_count": 8
  },
  {
   "metadata": {
    "id": "fb8d0982a0eeeeb6"
   },
   "cell_type": "markdown",
   "source": [
    "### Test case and Asserts"
   ],
   "id": "fb8d0982a0eeeeb6"
  },
  {
   "metadata": {
    "id": "a75f1aad4fa79d62",
    "ExecuteTime": {
     "end_time": "2024-07-20T16:24:56.388782Z",
     "start_time": "2024-07-20T16:24:56.379582Z"
    }
   },
   "cell_type": "code",
   "source": [
    "n_nodes = 21  # Num nodes\n",
    "\n",
    "edges = [\n",
    "  (1, 2, 1),\n",
    "  (1, 3, 4),\n",
    "  (1, 4, 3),\n",
    "  (1, 5, 10),\n",
    "  (2, 3, 2),\n",
    "  (3, 4, 2),\n",
    "  (3, 7, 8),\n",
    "  (4, 5, 7),\n",
    "  (4, 8, 6),\n",
    "  (5, 9, 1),\n",
    "  (2, 6, 5),\n",
    "  (6, 7, 3),\n",
    "  (6, 10, 9),\n",
    "  (7, 8, 4),\n",
    "  (8, 9, 2),\n",
    "  (9, 10, 5),\n",
    "  (2, 4, 6),\n",
    "  (3, 5, 7),\n",
    "  (6, 8, 4),\n",
    "  (7, 9, 3)\n",
    "]\n",
    "\n",
    "graph = prepare_graph(edges)"
   ],
   "id": "a75f1aad4fa79d62",
   "outputs": [],
   "execution_count": 9
  },
  {
   "metadata": {
    "id": "7233a9fe25fdad3a",
    "outputId": "7b90f904-d6d0-4207-ab3f-49776f07d562",
    "ExecuteTime": {
     "end_time": "2024-07-20T16:24:56.397816Z",
     "start_time": "2024-07-20T16:24:56.389360Z"
    }
   },
   "cell_type": "code",
   "source": [
    "# Expected result\n",
    "expected_solution = [(1, 2, 1), (5, 9, 1), (2, 3, 2), (3, 4, 2), (8, 9, 2), (6, 7, 3), (7, 9, 3), (2, 6, 5), (9, 10, 5)]\n",
    "\n",
    "# Run Kruskal's algorithm\n",
    "mst = kruskal(graph, n_nodes)\n",
    "assert mst == expected_solution, \"Problem with Kruskal's algorithm\"\n",
    "\n",
    "print(\"All tests passed.\")"
   ],
   "id": "7233a9fe25fdad3a",
   "outputs": [
    {
     "name": "stdout",
     "output_type": "stream",
     "text": [
      "All tests passed.\n"
     ]
    }
   ],
   "execution_count": 10
  },
  {
   "metadata": {
    "id": "26265ee823bf9689",
    "outputId": "dbe8844c-5867-4ad7-948b-ca6c1646f850",
    "ExecuteTime": {
     "end_time": "2024-07-20T16:24:58.432079Z",
     "start_time": "2024-07-20T16:24:56.398361Z"
    }
   },
   "cell_type": "code",
   "source": [
    "%%timeit\n",
    "kruskal(graph, n_nodes)"
   ],
   "id": "26265ee823bf9689",
   "outputs": [
    {
     "name": "stdout",
     "output_type": "stream",
     "text": [
      "249 ns ± 5.06 ns per loop (mean ± std. dev. of 7 runs, 1,000,000 loops each)\n"
     ]
    }
   ],
   "execution_count": 11
  },
  {
   "metadata": {
    "id": "d5dc6309908e6a2d"
   },
   "cell_type": "markdown",
   "source": [
    "## Backtracking"
   ],
   "id": "d5dc6309908e6a2d"
  },
  {
   "metadata": {
    "id": "c3e54b4774b3d2cb"
   },
   "cell_type": "markdown",
   "source": [
    "### Knapsack Problem\n",
    "\n",
    "Combinatorial optimization problem-solving"
   ],
   "id": "c3e54b4774b3d2cb"
  },
  {
   "metadata": {
    "id": "625d1fab020709f8",
    "ExecuteTime": {
     "end_time": "2024-07-20T16:24:58.435555Z",
     "start_time": "2024-07-20T16:24:58.432695Z"
    }
   },
   "cell_type": "code",
   "source": [
    "def knapsack(weights, values, capacity):\n",
    "  \"\"\"\n",
    "  Solves the 0/1 knapsack problem using a recursive backtracking algorithm.\n",
    "\n",
    "  Args:\n",
    "      weights: A list of weights for each item.\n",
    "      values: A list of values for each item.\n",
    "      capacity: The maximum weight that the knapsack can hold.\n",
    "\n",
    "  Returns:\n",
    "      A tuple containing the maximum value that can be achieved and a list of selected items.\n",
    "  \"\"\"\n",
    "\n",
    "  def knapsack_recursive(index, current_weight, current_value, selected_items):\n",
    "    \"\"\"\n",
    "    Recursive function to explore all possible solutions to the knapsack problem.\n",
    "\n",
    "    Args:\n",
    "        index: The index of the current item.\n",
    "        current_weight: The total weight of items selected so far.\n",
    "        current_value: The total value of items selected so far.\n",
    "        selected_items: A list of indices of items selected so far.\n",
    "\n",
    "    Returns:\n",
    "        A tuple containing the maximum value that can be achieved and a list of selected items.\n",
    "    \"\"\"\n",
    "\n",
    "    nonlocal max_value, best_selection\n",
    "\n",
    "    # Base case: if we have processed all items\n",
    "    if index == len(weights):\n",
    "      if current_value > max_value:\n",
    "        max_value = current_value\n",
    "        best_selection = selected_items.copy()\n",
    "      return\n",
    "\n",
    "    # Check if we can select the current item\n",
    "    if current_weight + weights[index] <= capacity:\n",
    "      # Select the current item\n",
    "      selected_items.append(index)\n",
    "      knapsack_recursive(index + 1, current_weight + weights[index], current_value + values[index], selected_items)\n",
    "      selected_items.pop()\n",
    "\n",
    "    # Skip the current item\n",
    "    knapsack_recursive(index + 1, current_weight, current_value, selected_items)\n",
    "\n",
    "  max_value = 0\n",
    "  best_selection = []\n",
    "\n",
    "  knapsack_recursive(0, 0, 0, [])\n",
    "\n",
    "  return max_value, best_selection"
   ],
   "id": "625d1fab020709f8",
   "outputs": [],
   "execution_count": 12
  },
  {
   "metadata": {
    "id": "4c3c93026ac44bbc"
   },
   "cell_type": "markdown",
   "source": [
    "#### Test case and Asserts"
   ],
   "id": "4c3c93026ac44bbc"
  },
  {
   "metadata": {
    "id": "6360175ce319797",
    "ExecuteTime": {
     "end_time": "2024-07-20T16:24:58.446379Z",
     "start_time": "2024-07-20T16:24:58.436089Z"
    }
   },
   "cell_type": "code",
   "source": [
    "capacity = 50\n",
    "\n",
    "weights = [5, 10, 15, 7, 8, 9, 4, 3, 6, 12]\n",
    "\n",
    "values = [10, 40, 30, 20, 50, 60, 70, 80, 90, 100]"
   ],
   "id": "6360175ce319797",
   "outputs": [],
   "execution_count": 13
  },
  {
   "metadata": {
    "id": "e1ecef55203f2ba8",
    "outputId": "39f03400-4c41-41fd-a243-7d26fbd86942",
    "ExecuteTime": {
     "end_time": "2024-07-20T16:24:58.454866Z",
     "start_time": "2024-07-20T16:24:58.447112Z"
    }
   },
   "cell_type": "code",
   "source": [
    "# Expected output\n",
    "expected_value = 470\n",
    "expected_selection = [3, 4, 5, 6, 7, 8, 9]\n",
    "\n",
    "# Run the recursive backtracking algorithm\n",
    "value, selection = knapsack(weights, values, capacity)\n",
    "assert value == expected_value, \"Problem with the knapsack algorithm\"\n",
    "assert selection == expected_selection, \"Problem with the knapsack algorithm\"\n",
    "\n",
    "print(\"All tests passed.\")"
   ],
   "id": "e1ecef55203f2ba8",
   "outputs": [
    {
     "name": "stdout",
     "output_type": "stream",
     "text": [
      "All tests passed.\n"
     ]
    }
   ],
   "execution_count": 14
  },
  {
   "metadata": {
    "id": "a0e5e81bf9aadf2c",
    "outputId": "e123333e-6b89-4b40-c871-4f8c34f9aa9a",
    "ExecuteTime": {
     "end_time": "2024-07-20T16:25:11.468532Z",
     "start_time": "2024-07-20T16:24:58.455450Z"
    }
   },
   "cell_type": "code",
   "source": [
    "%%timeit\n",
    "knapsack(weights, values, capacity)"
   ],
   "id": "a0e5e81bf9aadf2c",
   "outputs": [
    {
     "name": "stdout",
     "output_type": "stream",
     "text": [
      "159 μs ± 513 ns per loop (mean ± std. dev. of 7 runs, 10,000 loops each)\n"
     ]
    }
   ],
   "execution_count": 15
  },
  {
   "metadata": {
    "id": "64c55d33f6f40d7c"
   },
   "cell_type": "markdown",
   "source": [
    "### Maze Exploration\n",
    "\n",
    "Automated method for solving a maze"
   ],
   "id": "64c55d33f6f40d7c"
  },
  {
   "metadata": {
    "id": "fcf7abc2e79d199e",
    "ExecuteTime": {
     "end_time": "2024-07-20T16:25:11.472607Z",
     "start_time": "2024-07-20T16:25:11.469187Z"
    }
   },
   "cell_type": "code",
   "source": [
    "def maze_exploration(maze, pos, n_objects, min_steps, visited, last_object=0, current_steps=0):\n",
    "  \"\"\"\n",
    "  Recursive function to explore the maze and find the shortest path to collect all objects.\n",
    "\n",
    "  Args:\n",
    "      maze: A 2D list representing the maze.\n",
    "      pos: A tuple containing the current position in the maze.\n",
    "      n_objects: The total number of objects to collect.\n",
    "      last_object: The index of the last object collected.\n",
    "      min_steps: The current minimum number of steps to reach the goal.\n",
    "      current_steps: The current number of steps taken.\n",
    "      visited: A set containing the visited cells.\n",
    "\n",
    "  Returns:\n",
    "      The minimum number of steps to reach the goal.\n",
    "  \"\"\"\n",
    "\n",
    "  # Check if we have collected all objects\n",
    "  if last_object == n_objects:\n",
    "    return min(min_steps, current_steps)\n",
    "\n",
    "  # Explore all possible movements\n",
    "  for x_dir, y_dir in [(0, 1), (1, 0), (0, -1), (-1, 0)]:\n",
    "    x, y = pos[0] + x_dir, pos[1] + y_dir\n",
    "\n",
    "    is_within_bounds = 0 <= x < len(maze) and 0 <= y < len(maze[0])\n",
    "    is_not_visited = (x, y) not in visited\n",
    "    if is_within_bounds and is_not_visited:\n",
    "      last_object_found = maze[x][y] == last_object + 1\n",
    "      is_empty = maze[x][y] == 0\n",
    "      if last_object_found or is_empty:\n",
    "        visited.add((x, y))\n",
    "\n",
    "        if last_object_found:\n",
    "          last_object += 1\n",
    "\n",
    "        min_steps = min(\n",
    "          maze_exploration(maze, (x, y), n_objects, min_steps, visited, last_object, current_steps + 1),\n",
    "          min_steps)\n",
    "\n",
    "        if last_object_found:\n",
    "          last_object -= 1\n",
    "\n",
    "        visited.remove((x, y))\n",
    "\n",
    "  return min_steps"
   ],
   "id": "fcf7abc2e79d199e",
   "outputs": [],
   "execution_count": 16
  },
  {
   "metadata": {
    "id": "68b59dbc77606c5"
   },
   "cell_type": "markdown",
   "source": [
    "#### Test case and Asserts"
   ],
   "id": "68b59dbc77606c5"
  },
  {
   "metadata": {
    "id": "d546600b318d51c4",
    "ExecuteTime": {
     "end_time": "2024-07-20T16:25:11.481764Z",
     "start_time": "2024-07-20T16:25:11.473748Z"
    }
   },
   "cell_type": "code",
   "source": [
    "maze = [\n",
    "  [0, 0, 0, 0, 0],\n",
    "  [0, 1, 0, 0, 0],\n",
    "  [0, 0, 0, 0, 0],\n",
    "  [0, 3, 0, 0, 0],\n",
    "  [0, 0, 0, 0, 2]\n",
    "]\n",
    "\n",
    "init_cell = (0, 0)\n",
    "\n",
    "objects = 3\n",
    "\n",
    "visited = {init_cell}"
   ],
   "id": "d546600b318d51c4",
   "outputs": [],
   "execution_count": 17
  },
  {
   "metadata": {
    "id": "f1e70a7c4996f23d",
    "outputId": "74ab0c8d-9529-4db7-8444-5f02abd19f09",
    "ExecuteTime": {
     "end_time": "2024-07-20T16:25:11.512976Z",
     "start_time": "2024-07-20T16:25:11.482334Z"
    }
   },
   "cell_type": "code",
   "source": [
    "# Expected output\n",
    "expected_path = 12\n",
    "\n",
    "# Run the backtracking algorithm\n",
    "path = maze_exploration(maze, init_cell, objects, inf, visited)\n",
    "assert path == expected_path, \"Problem with the backtracking algorithm\"\n",
    "assert path != inf, \"No path found\"\n",
    "\n",
    "print(\"All tests passed.\")"
   ],
   "id": "f1e70a7c4996f23d",
   "outputs": [
    {
     "name": "stdout",
     "output_type": "stream",
     "text": [
      "All tests passed.\n"
     ]
    }
   ],
   "execution_count": 18
  },
  {
   "metadata": {
    "id": "36f02050ca2fadb3",
    "outputId": "54f32c0e-c278-45ce-d4fd-ce5b62af239a",
    "ExecuteTime": {
     "end_time": "2024-07-20T16:25:13.200029Z",
     "start_time": "2024-07-20T16:25:11.513659Z"
    }
   },
   "cell_type": "code",
   "source": [
    "%%timeit\n",
    "maze_exploration(maze, init_cell, objects, inf, visited)"
   ],
   "id": "36f02050ca2fadb3",
   "outputs": [
    {
     "name": "stdout",
     "output_type": "stream",
     "text": [
      "20.8 ms ± 63.9 μs per loop (mean ± std. dev. of 7 runs, 10 loops each)\n"
     ]
    }
   ],
   "execution_count": 19
  },
  {
   "cell_type": "markdown",
   "source": [
    "**Thanks for following along!** 🙂 If you have implemented a similar approach or have ideas for improvement, I'd love to see your code.\n",
    "\n",
    "Also, if you find the work helpful and would like to cite them, you can use the following bibtex:\n",
    "\n",
    "```bibtex\n",
    "@misc{aaseper2024hcga,\n",
    "   title        = {{Heuristic Core Greedy Algorithms}},\n",
    "   author       = {Alejandro Asensio},\n",
    "   year         = 2024,\n",
    "   howpublished = {\\url{https://drive.google.com/file/d/1IikuoaccPDaEJkQJlG6FS_93fxfNEJqG/view?usp=sharing}}\n",
    "}\n",
    "```"
   ],
   "metadata": {
    "id": "DponuyJs8UT8"
   },
   "id": "DponuyJs8UT8"
  },
  {
   "cell_type": "markdown",
   "source": [
    "© Copyright 2024 Alejandro Asensio Pérez."
   ],
   "metadata": {
    "id": "bhsb_2Gs8gSO"
   },
   "id": "bhsb_2Gs8gSO"
  }
 ],
 "metadata": {
  "kernelspec": {
   "display_name": "Python 3",
   "language": "python",
   "name": "python3"
  },
  "language_info": {
   "codemirror_mode": {
    "name": "ipython",
    "version": 2
   },
   "file_extension": ".py",
   "mimetype": "text/x-python",
   "name": "python",
   "nbconvert_exporter": "python",
   "pygments_lexer": "ipython2",
   "version": "2.7.6"
  },
  "colab": {
   "provenance": [],
   "toc_visible": true
  }
 },
 "nbformat": 4,
 "nbformat_minor": 5
}
